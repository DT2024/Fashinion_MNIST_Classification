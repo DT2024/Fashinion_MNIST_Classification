{
  "nbformat": 4,
  "nbformat_minor": 0,
  "metadata": {
    "colab": {
      "provenance": [],
      "gpuType": "T4",
      "authorship_tag": "ABX9TyNdcRmm1n6rMRYhCgNOgx+g",
      "include_colab_link": true
    },
    "kernelspec": {
      "name": "python3",
      "display_name": "Python 3"
    },
    "language_info": {
      "name": "python"
    },
    "accelerator": "GPU"
  },
  "cells": [
    {
      "cell_type": "markdown",
      "metadata": {
        "id": "view-in-github",
        "colab_type": "text"
      },
      "source": [
        "<a href=\"https://colab.research.google.com/github/DT2024/Fashinion_MNIST_Classification/blob/main/Fashion_MNIST.ipynb\" target=\"_parent\"><img src=\"https://colab.research.google.com/assets/colab-badge.svg\" alt=\"Open In Colab\"/></a>"
      ]
    },
    {
      "cell_type": "markdown",
      "source": [],
      "metadata": {
        "id": "xnqvhybho7wI"
      }
    },
    {
      "cell_type": "code",
      "source": [
        "import torch\n",
        "import torch.nn as nn\n",
        "import torch.nn.functional as F\n",
        "import numpy as np\n",
        "import matplotlib.pyplot as plt\n",
        "from matplotlib import style\n",
        "style.use('dark_background')\n",
        "from torch.utils.data import DataLoader,TensorDataset\n",
        "from sklearn.model_selection import train_test_split"
      ],
      "metadata": {
        "id": "0TPjeSB_LI1K"
      },
      "execution_count": null,
      "outputs": []
    },
    {
      "cell_type": "code",
      "source": [
        "#Check the availabilty of GPU\n",
        "torch.cuda.is_available()"
      ],
      "metadata": {
        "colab": {
          "base_uri": "https://localhost:8080/"
        },
        "id": "WROnuTBbLB3Z",
        "outputId": "8a202b1f-b92e-4505-a551-4c1710f21b67"
      },
      "execution_count": null,
      "outputs": [
        {
          "output_type": "execute_result",
          "data": {
            "text/plain": [
              "True"
            ]
          },
          "metadata": {},
          "execution_count": 2
        }
      ]
    },
    {
      "cell_type": "code",
      "source": [
        "#Use GPU as a device\n",
        "device = torch.device('cuda:0' if torch.cuda.is_available() else 'cpu')\n",
        "print(device)"
      ],
      "metadata": {
        "colab": {
          "base_uri": "https://localhost:8080/"
        },
        "id": "rs1DKGrgLRVs",
        "outputId": "35c2ba15-f802-4a90-87c1-dc6e04a4c80f"
      },
      "execution_count": null,
      "outputs": [
        {
          "output_type": "stream",
          "name": "stdout",
          "text": [
            "cuda:0\n"
          ]
        }
      ]
    },
    {
      "cell_type": "code",
      "execution_count": null,
      "metadata": {
        "colab": {
          "base_uri": "https://localhost:8080/"
        },
        "id": "5m4jhddnJsvr",
        "outputId": "d9eca658-9930-44ce-f12a-3c8926d513a3"
      },
      "outputs": [
        {
          "output_type": "stream",
          "name": "stdout",
          "text": [
            "torch.Size([60000, 28, 28])\n",
            "torch.Size([60000])\n"
          ]
        }
      ],
      "source": [
        "#Importing the Fashion MNIST Dataset\n",
        "import torchvision\n",
        "import torchvision.transforms as transforms\n",
        "\n",
        "\n",
        "# Load the dataset\n",
        "dataset = torchvision.datasets.FashionMNIST(root='./data', train=True, download=True)\n",
        "\n",
        "print(dataset.data.shape)\n",
        "print(dataset.targets.shape)"
      ]
    },
    {
      "cell_type": "code",
      "source": [
        "# After Loading the dataset, I need to change to numpy array and extract only 10000\n",
        "X=dataset.data.numpy()\n",
        "y=dataset.targets.numpy()\n",
        "\n",
        "X=X[:10000]\n",
        "y=y[:10000]\n",
        "\n"
      ],
      "metadata": {
        "id": "j1UedAKaNV17"
      },
      "execution_count": null,
      "outputs": []
    },
    {
      "cell_type": "code",
      "source": [
        "X.shape"
      ],
      "metadata": {
        "colab": {
          "base_uri": "https://localhost:8080/"
        },
        "id": "VhH1-mAzNxLG",
        "outputId": "9eff1313-ed99-41f0-f1cf-49807f23ca0f"
      },
      "execution_count": null,
      "outputs": [
        {
          "output_type": "execute_result",
          "data": {
            "text/plain": [
              "(10000, 28, 28)"
            ]
          },
          "metadata": {},
          "execution_count": 6
        }
      ]
    },
    {
      "cell_type": "code",
      "source": [
        "y.shape"
      ],
      "metadata": {
        "colab": {
          "base_uri": "https://localhost:8080/"
        },
        "id": "Ka4xVgpOgjMl",
        "outputId": "602786d9-b4d0-42cb-bcc1-8c87a0e54640"
      },
      "execution_count": null,
      "outputs": [
        {
          "output_type": "execute_result",
          "data": {
            "text/plain": [
              "(10000,)"
            ]
          },
          "metadata": {},
          "execution_count": 7
        }
      ]
    },
    {
      "cell_type": "code",
      "source": [
        "#Before moving on and doing 4 steps I need to normalize the image and convert to pytorch type\n",
        "X_t = torch.tensor(X, dtype=torch.float32).unsqueeze(1) / 255.0  # Normalize & and this unsqueeze(1) had to used when it is CNN or using Resize() apparently\n",
        "y_t = torch.tensor(y, dtype=torch.long)\n"
      ],
      "metadata": {
        "id": "jnM_MxvMglL7"
      },
      "execution_count": null,
      "outputs": []
    },
    {
      "cell_type": "code",
      "source": [
        "#Then I need to resize to images 64X64, at first I tried how it was explained in the class dataloader but it didn't work for me\n",
        "# So I have to resize then use that resized data to the dataloader\n",
        "resize_transform = transforms.Resize((64, 64))\n",
        "X_t_resized = torch.stack([resize_transform(img) for img in X_t])   #I have to do this to apply the resized size to X"
      ],
      "metadata": {
        "id": "-CmIOjGAjJgI"
      },
      "execution_count": null,
      "outputs": []
    },
    {
      "cell_type": "code",
      "source": [
        "#Now I can do other steps of 4 important steps to use in pytorch\n",
        "# Step 2: Perform Train Test Split and Normalize the data\n",
        "train_data, test_data, train_labels, test_labels = train_test_split(X_t_resized, y_t, test_size = 0.1)\n",
        "\n",
        "train_data = train_data/torch.max(train_data)\n",
        "test_data  = test_data/torch.max(test_data)\n",
        "\n",
        "\n",
        "# Step 3: Convert into PyTorch Datasets\n",
        "X_train = TensorDataset(train_data,train_labels)\n",
        "X_test  = TensorDataset(test_data,test_labels)\n",
        "\n",
        "\n",
        "# Step 4: Move the data into dataloader objects\n",
        "batchsize    = 32\n",
        "train_loader = DataLoader(X_train, batch_size = batchsize, shuffle = True, drop_last=True)\n",
        "test_loader  = DataLoader(X_test, batch_size = X_test.tensors[0].shape[0])"
      ],
      "metadata": {
        "id": "3eyt-IlLjfEf"
      },
      "execution_count": null,
      "outputs": []
    },
    {
      "cell_type": "code",
      "source": [
        "#The result here need to confirm that the size of the images are now 64X64\n",
        "for X,y in train_loader:\n",
        "    break\n",
        "X.shape"
      ],
      "metadata": {
        "colab": {
          "base_uri": "https://localhost:8080/"
        },
        "id": "KZs1did0kCzJ",
        "outputId": "d0d13f33-cb19-4f58-a4e6-0307b8e1a66d"
      },
      "execution_count": null,
      "outputs": [
        {
          "output_type": "execute_result",
          "data": {
            "text/plain": [
              "torch.Size([32, 1, 64, 64])"
            ]
          },
          "metadata": {},
          "execution_count": 13
        }
      ]
    },
    {
      "cell_type": "code",
      "source": [
        "#How many classes this dataset have?\n",
        "number_classes=len(set(dataset.targets.numpy()))\n",
        "number_classes"
      ],
      "metadata": {
        "colab": {
          "base_uri": "https://localhost:8080/"
        },
        "id": "0FvnM0Idl4nb",
        "outputId": "52db2e36-5c5b-4685-f79a-2a1bef8ea856"
      },
      "execution_count": null,
      "outputs": [
        {
          "output_type": "execute_result",
          "data": {
            "text/plain": [
              "10"
            ]
          },
          "metadata": {},
          "execution_count": 16
        }
      ]
    },
    {
      "cell_type": "code",
      "source": [
        "#Creating neural network and since in the class example it was 28X28 and 784, then in 1X64X64 it should be 4096\n",
        "class NN_Classifier(nn.Module):\n",
        "  def __init__(self):\n",
        "    super().__init__()\n",
        "\n",
        "    self.input = nn.Linear(4096,64)\n",
        "    self.fc1 = nn.Linear(64,32)\n",
        "    self.fc2 = nn.Linear(32,32)\n",
        "\n",
        "    # Classification OR  output layer\n",
        "\n",
        "    self.output = nn.Linear(32,10)\n",
        "\n",
        "  # Forward pass\n",
        "\n",
        "  def forward(self,x):\n",
        "\n",
        "    # Pass the data through the input layer\n",
        "    x = x.view(x.shape[0], -1)  # Ensure correct shape\n",
        "    x = self.input(x)\n",
        "    x = self.fc1(x)\n",
        "    x = F.relu(x)\n",
        "    x = self.fc2(x)\n",
        "    x = F.relu(x)\n",
        "\n",
        "    # output layer\n",
        "\n",
        "    x = self.output(x)\n",
        "    # X = torch.sigmoid\n",
        "    return x"
      ],
      "metadata": {
        "id": "NaBbeuJkks1b"
      },
      "execution_count": null,
      "outputs": []
    },
    {
      "cell_type": "code",
      "source": [
        "model = NN_Classifier()"
      ],
      "metadata": {
        "id": "WdbtM4xQmVGr"
      },
      "execution_count": null,
      "outputs": []
    },
    {
      "cell_type": "code",
      "source": [
        "model"
      ],
      "metadata": {
        "colab": {
          "base_uri": "https://localhost:8080/"
        },
        "id": "DzhjWOizmY2C",
        "outputId": "26c647ab-e1b3-44e0-ddeb-272186757cbe"
      },
      "execution_count": null,
      "outputs": [
        {
          "output_type": "execute_result",
          "data": {
            "text/plain": [
              "NN_Classifier(\n",
              "  (input): Linear(in_features=4096, out_features=64, bias=True)\n",
              "  (fc1): Linear(in_features=64, out_features=32, bias=True)\n",
              "  (fc2): Linear(in_features=32, out_features=32, bias=True)\n",
              "  (output): Linear(in_features=32, out_features=10, bias=True)\n",
              ")"
            ]
          },
          "metadata": {},
          "execution_count": 23
        }
      ]
    },
    {
      "cell_type": "code",
      "source": [
        "#Train and Test Model\n",
        "epochs = 101\n",
        "\n",
        "lossfunc = nn.CrossEntropyLoss()\n",
        "\n",
        "optimizer = torch.optim.SGD(model.parameters(), momentum = 0.9, lr = 0.01)\n",
        "\n",
        "model.to(device) # placing a model on GPU\n",
        "\n",
        "# Initialize losses and Accuracies\n",
        "\n",
        "losses    = torch.zeros(epochs)\n",
        "trainAcc  = []\n",
        "testAcc   = []\n",
        "\n",
        "\n",
        "# For Loop for epochs\n",
        "\n",
        "for epoch in range(epochs):\n",
        " model.train()\n",
        "\n",
        " # Loop for training in batches\n",
        "\n",
        " batchAcc  = []\n",
        " batchLoss = []\n",
        "\n",
        " for X,y in train_loader:\n",
        "\n",
        "  X = X.to(device) # Placing features on device\n",
        "  y = y.to(device) # placing labels on device\n",
        "\n",
        "  ypred = model(X)\n",
        "  loss = lossfunc(ypred,y)\n",
        "\n",
        "# Backpropagation\n",
        "\n",
        "  optimizer.zero_grad()\n",
        "  loss.backward()\n",
        "  optimizer.step()\n",
        "\n",
        "  # Append batchloss\n",
        "\n",
        "  batchLoss.append(loss.item())\n",
        "\n",
        "  ypred = ypred.cpu() # Back to cpu\n",
        "  y = y.cpu()\n",
        "\n",
        "  # compute batch accuracy\n",
        "\n",
        "  acc = 100 * torch.mean((torch.argmax(ypred, dim=1) == y).float())\n",
        "  batchAcc.append(acc)\n",
        "\n",
        "# Batch loop concluded\n",
        "\n",
        "# Average training accuracy (Outside the batchloop)\n",
        "\n",
        " trainAcc.append(np.mean(batchAcc))\n",
        "\n",
        "# Losses through epochs\n",
        "\n",
        " losses[epoch] = np.mean(batchLoss)\n",
        "\n",
        "# TESTING the model\n",
        "\n",
        " model.eval()\n",
        " X,y = next(iter(test_loader))\n",
        " X = X.to(device)\n",
        " y = y.to(device)\n",
        "\n",
        " with torch.no_grad(): #This step  Deactivating autogradient\n",
        "  ypred = model(X)\n",
        "  ypred = ypred.cpu()\n",
        "  y = y.cpu()\n",
        "\n",
        " # Appending test accuracy\n",
        "\n",
        "  testAcc.append(100 * torch.mean((torch.argmax(ypred,dim=1)==y).float()))\n",
        "  if (epoch % 10) == 0:\n",
        "\n",
        "        print(f' epochs : {epoch}  loss : {loss : 2.2f}')\n",
        "\n"
      ],
      "metadata": {
        "colab": {
          "base_uri": "https://localhost:8080/"
        },
        "id": "SRu3HyEBmcwR",
        "outputId": "196d2a98-72a4-40e3-f09b-1fe2b88bb0c9"
      },
      "execution_count": null,
      "outputs": [
        {
          "output_type": "stream",
          "name": "stdout",
          "text": [
            " epochs : 0  loss :  0.88\n",
            " epochs : 10  loss :  0.17\n",
            " epochs : 20  loss :  0.49\n",
            " epochs : 30  loss :  0.21\n",
            " epochs : 40  loss :  0.35\n",
            " epochs : 50  loss :  0.16\n",
            " epochs : 60  loss :  0.24\n",
            " epochs : 70  loss :  0.13\n",
            " epochs : 80  loss :  0.11\n",
            " epochs : 90  loss :  0.05\n",
            " epochs : 100  loss :  0.08\n"
          ]
        }
      ]
    },
    {
      "cell_type": "code",
      "source": [
        "#Visualising the loss and accuracies\n",
        "\n",
        "fig,ax = plt.subplots(1,2,figsize=(18,6))\n",
        "\n",
        "ax[0].plot(losses, 'g', lw = 3, label = 'Train')\n",
        "ax[0].set_xlabel('Epochs', fontsize = 15)\n",
        "ax[0].set_ylabel('Loss', fontsize = 15)\n",
        "ax[0].legend(fontsize = 15)\n",
        "ax[0].set_title('Training Loss', fontsize = 15)\n",
        "\n",
        "ax[1].plot(trainAcc, label ='Train', lw = 3)\n",
        "ax[1].plot(testAcc, label ='Test', lw = 3)\n",
        "ax[1].set_xlabel('Epochs', fontsize = 15)\n",
        "ax[1].set_ylabel('Accuracy (%)', fontsize = 15)\n",
        "ax[1].set_ylim([10,110])\n",
        "ax[1].set_title(f'Train Accuracy: {trainAcc[-1]:.2f}% \\n Test Accuracy: {testAcc[-1]:.2f}%', fontsize = 15)\n",
        "ax[1].legend(fontsize = 15)\n",
        "\n",
        "plt.show()"
      ],
      "metadata": {
        "colab": {
          "base_uri": "https://localhost:8080/",
          "height": 471
        },
        "id": "Wgiq_yCInaLP",
        "outputId": "f6fd54bb-5412-43fd-fa81-c718b9c00f10"
      },
      "execution_count": null,
      "outputs": [
        {
          "output_type": "display_data",
          "data": {
            "text/plain": [
              "<Figure size 1800x600 with 2 Axes>"
            ],
            "image/png": "[encoded data removed]"
          },
          "metadata": {}
        }
      ]
    },
    {
      "cell_type": "code",
      "source": [
        "ypred = np.argmax(ypred, axis = 1)"
      ],
      "metadata": {
        "id": "YHpojyl1ntKg"
      },
      "execution_count": null,
      "outputs": []
    },
    {
      "cell_type": "code",
      "source": [
        "#print Classification report\n",
        "from sklearn.metrics import classification_report\n",
        "print(classification_report(y, ypred))"
      ],
      "metadata": {
        "colab": {
          "base_uri": "https://localhost:8080/"
        },
        "id": "zYYgcIy6n26g",
        "outputId": "95307938-67fd-46cc-bca8-fe6758362114"
      },
      "execution_count": null,
      "outputs": [
        {
          "output_type": "stream",
          "name": "stdout",
          "text": [
            "              precision    recall  f1-score   support\n",
            "\n",
            "           0       0.72      0.90      0.80        96\n",
            "           1       0.97      0.98      0.97        97\n",
            "           2       0.64      0.80      0.71       105\n",
            "           3       0.87      0.84      0.86        96\n",
            "           4       0.68      0.72      0.70        90\n",
            "           5       0.99      0.90      0.94        93\n",
            "           6       0.69      0.36      0.47       107\n",
            "           7       0.87      0.93      0.90       107\n",
            "           8       0.96      0.95      0.96       106\n",
            "           9       0.93      0.94      0.94       103\n",
            "\n",
            "    accuracy                           0.83      1000\n",
            "   macro avg       0.83      0.83      0.82      1000\n",
            "weighted avg       0.83      0.83      0.82      1000\n",
            "\n"
          ]
        }
      ]
    }
  ]
}